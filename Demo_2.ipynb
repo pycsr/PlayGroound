{
 "cells": [
  {
   "cell_type": "markdown",
   "id": "8d9ab65b",
   "metadata": {
    "ExecuteTime": {
     "end_time": "2021-09-18T15:09:20.414476Z",
     "start_time": "2021-09-18T15:09:20.282371Z"
    }
   },
   "source": [
    "# Program-1"
   ]
  },
  {
   "cell_type": "code",
   "execution_count": 7,
   "id": "29ccada5",
   "metadata": {
    "ExecuteTime": {
     "end_time": "2021-09-18T15:16:56.019845Z",
     "start_time": "2021-09-18T15:16:56.016092Z"
    }
   },
   "outputs": [
    {
     "name": "stdout",
     "output_type": "stream",
     "text": [
      "2\n",
      "2\n",
      "2\n",
      "2\n"
     ]
    }
   ],
   "source": [
    "a = 2\n",
    "print(a)\n",
    "a = 2\n",
    "print(a)\n",
    "a = 2\n",
    "print(a)\n",
    "a = 2\n",
    "print(a)"
   ]
  },
  {
   "cell_type": "markdown",
   "id": "e2d30a09",
   "metadata": {
    "ExecuteTime": {
     "end_time": "2021-09-18T15:09:46.081908Z",
     "start_time": "2021-09-18T15:09:46.075386Z"
    }
   },
   "source": [
    "# Program-2"
   ]
  },
  {
   "cell_type": "code",
   "execution_count": 8,
   "id": "64ead872",
   "metadata": {
    "ExecuteTime": {
     "end_time": "2021-09-18T15:16:56.027587Z",
     "start_time": "2021-09-18T15:16:56.023092Z"
    }
   },
   "outputs": [
    {
     "name": "stdout",
     "output_type": "stream",
     "text": [
      "2\n",
      "2\n",
      "2\n"
     ]
    }
   ],
   "source": [
    "print(a)\n",
    "a = 2\n",
    "print(a)\n",
    "a = 2\n",
    "print(a)"
   ]
  },
  {
   "cell_type": "markdown",
   "id": "8995d02f",
   "metadata": {
    "ExecuteTime": {
     "end_time": "2021-09-18T15:09:46.081908Z",
     "start_time": "2021-09-18T15:09:46.075386Z"
    }
   },
   "source": [
    "# Program-2"
   ]
  },
  {
   "cell_type": "code",
   "execution_count": 9,
   "id": "c90a6ff4",
   "metadata": {
    "ExecuteTime": {
     "end_time": "2021-09-18T15:16:56.049585Z",
     "start_time": "2021-09-18T15:16:56.044708Z"
    }
   },
   "outputs": [
    {
     "name": "stdout",
     "output_type": "stream",
     "text": [
      "2\n",
      "2\n",
      "2\n"
     ]
    }
   ],
   "source": [
    "print(a)\n",
    "a = 2\n",
    "print(a)\n",
    "a = 2\n",
    "print(a)"
   ]
  },
  {
   "cell_type": "markdown",
   "id": "e6947962",
   "metadata": {
    "ExecuteTime": {
     "end_time": "2021-09-18T15:09:46.081908Z",
     "start_time": "2021-09-18T15:09:46.075386Z"
    }
   },
   "source": [
    "# Program-2"
   ]
  },
  {
   "cell_type": "code",
   "execution_count": 10,
   "id": "1d42ff33",
   "metadata": {
    "ExecuteTime": {
     "end_time": "2021-09-18T15:16:56.049585Z",
     "start_time": "2021-09-18T15:16:56.044708Z"
    }
   },
   "outputs": [
    {
     "name": "stdout",
     "output_type": "stream",
     "text": [
      "2\n",
      "2\n",
      "2\n"
     ]
    }
   ],
   "source": [
    "print(a)\n",
    "a = 2\n",
    "print(a)\n",
    "a = 2\n",
    "print(a)"
   ]
  },
  {
   "cell_type": "markdown",
   "id": "4e41cf17",
   "metadata": {
    "ExecuteTime": {
     "end_time": "2021-09-18T15:09:46.081908Z",
     "start_time": "2021-09-18T15:09:46.075386Z"
    }
   },
   "source": [
    "# Program-2"
   ]
  },
  {
   "cell_type": "code",
   "execution_count": 11,
   "id": "0d108fed",
   "metadata": {
    "ExecuteTime": {
     "end_time": "2021-09-18T15:16:56.049585Z",
     "start_time": "2021-09-18T15:16:56.044708Z"
    }
   },
   "outputs": [
    {
     "name": "stdout",
     "output_type": "stream",
     "text": [
      "2\n",
      "2\n",
      "2\n"
     ]
    }
   ],
   "source": [
    "print(a)\n",
    "a = 2\n",
    "print(a)\n",
    "a = 2\n",
    "print(a)"
   ]
  },
  {
   "cell_type": "code",
   "execution_count": 12,
   "id": "1f69046e",
   "metadata": {
    "ExecuteTime": {
     "end_time": "2021-09-18T15:16:56.056495Z",
     "start_time": "2021-09-18T15:16:56.052120Z"
    }
   },
   "outputs": [],
   "source": [
    "import jovian"
   ]
  },
  {
   "cell_type": "code",
   "execution_count": 13,
   "id": "96ee3c70",
   "metadata": {
    "ExecuteTime": {
     "end_time": "2021-09-18T15:17:11.563064Z",
     "start_time": "2021-09-18T15:16:56.060663Z"
    }
   },
   "outputs": [
    {
     "data": {
      "application/javascript": [
       "window.require && require([\"base/js/namespace\"],function(Jupyter){Jupyter.notebook.save_checkpoint()})"
      ],
      "text/plain": [
       "<IPython.core.display.Javascript object>"
      ]
     },
     "metadata": {},
     "output_type": "display_data"
    },
    {
     "name": "stdout",
     "output_type": "stream",
     "text": [
      "[jovian] Attempting to save notebook..\u001b[0m\n",
      "[jovian] Updating notebook \"soni-pankajkumar/demo-2\" on https://jovian.ai/\u001b[0m\n",
      "[jovian] Uploading notebook..\u001b[0m\n",
      "[jovian] Capturing environment..\u001b[0m\n",
      "[jovian] Committed successfully! https://jovian.ai/soni-pankajkumar/demo-2\u001b[0m\n"
     ]
    },
    {
     "data": {
      "text/plain": [
       "'https://jovian.ai/soni-pankajkumar/demo-2'"
      ]
     },
     "execution_count": 13,
     "metadata": {},
     "output_type": "execute_result"
    }
   ],
   "source": [
    "jovian.commit()"
   ]
  },
  {
   "cell_type": "code",
   "execution_count": null,
   "id": "e3b4353e",
   "metadata": {},
   "outputs": [],
   "source": []
  },
  {
   "cell_type": "code",
   "execution_count": null,
   "id": "5a21b270",
   "metadata": {},
   "outputs": [],
   "source": []
  }
 ],
 "metadata": {
  "kernelspec": {
   "display_name": "Python 3 (ipykernel)",
   "language": "python",
   "name": "python3"
  },
  "language_info": {
   "codemirror_mode": {
    "name": "ipython",
    "version": 3
   },
   "file_extension": ".py",
   "mimetype": "text/x-python",
   "name": "python",
   "nbconvert_exporter": "python",
   "pygments_lexer": "ipython3",
   "version": "3.8.5"
  },
  "toc": {
   "base_numbering": 1,
   "nav_menu": {},
   "number_sections": true,
   "sideBar": true,
   "skip_h1_title": false,
   "title_cell": "Table of Contents",
   "title_sidebar": "Contents",
   "toc_cell": false,
   "toc_position": {},
   "toc_section_display": true,
   "toc_window_display": false
  }
 },
 "nbformat": 4,
 "nbformat_minor": 5
}
